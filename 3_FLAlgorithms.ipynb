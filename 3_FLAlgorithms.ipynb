{
 "cells": [
  {
   "cell_type": "markdown",
   "id": "0973b681",
   "metadata": {},
   "source": [
    "# Quiz\n",
    "\n",
    "In Federated Learning models, what information is sent among clients instead of sending their raw data? Why it does not fully guarantee privacy even if we don't share raw data? \n",
    "\n",
    "*Assume FedAvg (Algorithm 8 in Page 100) represents the centralised-server setting and FedSGD (Algorithm 7 in Page 96) represents a non-centralised/peer-to-peer setting*\n",
    "\n",
    "Derive the total number of pair-wise message exchanges required per round for N clients in (i) FedAvg and (ii) a ring-based peer-to-peer FedSGD. Assume every client participates.\n",
    "\n",
    "FedAvg typically requires fewer communication rounds but larger payloads per round than FedSGD. Explain the algorithmic reason for this difference and its impact on mobile networks.\n",
    "\n",
    "True/False: “FedRelax offers stronger privacy guarantees than FedSGD because it never sends its own parameters.” If false, briefly state one attack vector that still applies.\n",
    "\n",
    "\n"
   ]
  },
  {
   "cell_type": "markdown",
   "id": "c2889e15",
   "metadata": {},
   "source": [
    "# Code \n",
    "\n",
    "I reuse code tasks from last year homework 3, Task 3.3 - Solve GTVMin using gradient, homework 4, Task 4.1 - Non-parametric Local Model -  Decision Tree. As they are both introduced in chapter 5 FL Algorithms\n"
   ]
  }
 ],
 "metadata": {
  "language_info": {
   "name": "python"
  }
 },
 "nbformat": 4,
 "nbformat_minor": 5
}
