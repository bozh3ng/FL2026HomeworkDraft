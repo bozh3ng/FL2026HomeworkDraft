{
 "cells": [
  {
   "cell_type": "markdown",
   "id": "c5929dfe",
   "metadata": {},
   "source": [
    "# Quiz "
   ]
  },
  {
   "cell_type": "markdown",
   "id": "ea0f2f0c",
   "metadata": {},
   "source": [
    "## 1 \n",
    "\n",
    "(Single Choice) If a client’s degree doubles from 5 to 10 while the model size stays the same, its per-iteration communication load will\n",
    "\n",
    "a) stay the same \n",
    "\n",
    "b) **double**\n",
    "\n",
    "c) halve \n",
    "\n",
    "d) quadruple\n",
    "\n",
    "## 2\n",
    "\n",
    "(Single Choice) For a fixed number of nodes N, which topology has the smallest spectral gap (thus needs the most global rounds)?\n",
    "\n",
    "a) Complete graph \n",
    "\n",
    "b) 2-D grid \n",
    "\n",
    "c) Expander \n",
    "\n",
    "d) **Ring**\n",
    "\n",
    "## 3\n",
    "\n",
    "(Single Choice) Which strategy best balances communication per iteration and total runtime in practice?\n",
    "\n",
    "a) Make the graph complete\n",
    "\n",
    "b) Use a sparse ring only\n",
    "\n",
    "c) **Use a constant-degree expander or randomly activate approx 10 edges per node each round**\n",
    "\n",
    "d) Disable all inter-client edges and rely on the server"
   ]
  },
  {
   "cell_type": "markdown",
   "id": "1b84ec2a",
   "metadata": {},
   "source": [
    "# Coding\n",
    "\n",
    "I planned to design a coding task based on the linear programming shown on Page 152, Eq 158:\n",
    "\n",
    "![image.png](eq158.png)\n",
    "\n",
    "But I don't really understand the last constrain. \n",
    "\n",
    "If we want to enforces regularity: every node has the same node degree $d^{(i)}=d_{\\max }^{(\\mathcal{G})}$, then it should be number of non-zero weights of each node sum up to d_max:\n",
    "\n",
    "$$d^{(i)}=\\sum_{i^{\\prime} \\in nb(i)}\\#(A_{i, i^{\\prime}}\\neq0)=d_{\\max }^{(\\mathcal{G})} \\quad \\forall i \\in \\mathcal{V}$$\n",
    "\n",
    "I don't why the sum of $A_{i, i^{\\prime}} \\in[0,1]$ is d_max\n",
    "\n"
   ]
  }
 ],
 "metadata": {
  "language_info": {
   "name": "python"
  }
 },
 "nbformat": 4,
 "nbformat_minor": 5
}
