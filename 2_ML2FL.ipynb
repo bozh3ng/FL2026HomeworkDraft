{
 "cells": [
  {
   "cell_type": "markdown",
   "id": "c32750ca",
   "metadata": {},
   "source": [
    "# Quiz\n",
    "\n",
    "\n",
    "## Concept\n",
    "\n",
    "Define federated learning in one sentence and name two real-world scenarios where it is preferable to conventional centralized training. \n",
    "\n",
    "Centralized ML often conflicts with data-privacy regulations such as GDPR/CCPA. List two distinct legal or privacy problems that FL is designed to mitigate.\n",
    "\n",
    "Explain what “non-IID data” means in FL. Why is it more severe here than in typical distributed mini-batch SGD on a shuffled dataset?  \n",
    "\n",
    "True/False: “Because data never leaves users’ devices, FL completely eliminates privacy risks.” If false, cite one plausible attack.   \n",
    "\n",
    "## Generalised Total Variation (GTV) Minimisation:\n",
    "\n",
    "$\\left\\{\\widehat{\\mathbf{w}}^{(i)}\\right\\}_{i=1}^n \\in \\underset{\\mathbf{w}^{(1)}, \\ldots, \\mathbf{w}^{(n)}}{\\operatorname{argmin}} \\sum_{i \\in \\mathcal{V}} L_i\\left(\\mathbf{w}^{(i)}\\right)+\\alpha \\sum_{\\left\\{i, i^{\\prime}\\right\\} \\in \\mathcal{E}} A_{i, i^{\\prime}} \\phi\\left(\\mathbf{w}^{(i)}-\\mathbf{w}^{\\left(i^{\\prime}\\right)}\\right)$.\n",
    "\n",
    "\n",
    "Decomposition: Identify which part of the objective enforces data fidelity and which part enforces model similarity. Why is the latter called a “total-variation” term?\n",
    "\n",
    "\n",
    "Suppose $\\phi(\\mathbf{z})=\\|\\mathbf{z}\\|_2$. Explain in words what increasing $\\alpha$ does to the number of distinct parameter vectors over the graph.\n",
    "\n",
    "The solution of GTVMin is unique and given by $\\widehat{\\mathbf{w}}=(-1 / 2) \\mathbf{Q}^{-1} \\mathbf{q}$ (Page 46). What if $Q$ is not invertable?\n",
    "\n",
    "Prove that if every $L_i$ is convex and $\\phi$ is a norm, the overall objective is convex. What advantage does this give us for optimisation?\n"
   ]
  },
  {
   "cell_type": "markdown",
   "id": "b4a0a1f7",
   "metadata": {},
   "source": [
    "# Coding \n",
    "\n",
    "I suggest we use same code task as last year Homework 3, Task 3.2 - Solve GTVMin using closed form, as GTVMin is the main method we use in this book and Taks 3.2 are consistent with the textbook content\n",
    "\n"
   ]
  }
 ],
 "metadata": {
  "kernelspec": {
   "display_name": "ML_py10",
   "language": "python",
   "name": "python3"
  },
  "language_info": {
   "name": "python",
   "version": "3.10.16"
  }
 },
 "nbformat": 4,
 "nbformat_minor": 5
}
